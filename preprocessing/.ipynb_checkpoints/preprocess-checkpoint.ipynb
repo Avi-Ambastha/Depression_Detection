{
 "cells": [
  {
   "cell_type": "code",
   "execution_count": 1,
   "id": "5d88c434-d0ff-4312-9465-6410e5c0603f",
   "metadata": {},
   "outputs": [],
   "source": [
    "import pandas as pd "
   ]
  },
  {
   "cell_type": "code",
   "execution_count": 2,
   "id": "7ff40fcd-7286-4729-bc98-549dd8734b12",
   "metadata": {},
   "outputs": [],
   "source": [
    "df=pd.read_csv(\"train.csv\")"
   ]
  },
  {
   "cell_type": "code",
   "execution_count": 3,
   "id": "deda2ebd-d73b-4208-be78-e812c8b3dc8c",
   "metadata": {},
   "outputs": [
    {
     "data": {
      "text/html": [
       "<div>\n",
       "<style scoped>\n",
       "    .dataframe tbody tr th:only-of-type {\n",
       "        vertical-align: middle;\n",
       "    }\n",
       "\n",
       "    .dataframe tbody tr th {\n",
       "        vertical-align: top;\n",
       "    }\n",
       "\n",
       "    .dataframe thead th {\n",
       "        text-align: right;\n",
       "    }\n",
       "</style>\n",
       "<table border=\"1\" class=\"dataframe\">\n",
       "  <thead>\n",
       "    <tr style=\"text-align: right;\">\n",
       "      <th></th>\n",
       "      <th>PID</th>\n",
       "      <th>Text_data</th>\n",
       "      <th>Label</th>\n",
       "    </tr>\n",
       "  </thead>\n",
       "  <tbody>\n",
       "    <tr>\n",
       "      <th>0</th>\n",
       "      <td>train_pid_1</td>\n",
       "      <td>Waiting for my mind to have a breakdown once t...</td>\n",
       "      <td>moderate</td>\n",
       "    </tr>\n",
       "    <tr>\n",
       "      <th>1</th>\n",
       "      <td>train_pid_2</td>\n",
       "      <td>My new years resolution : I'm gonna get my ass...</td>\n",
       "      <td>moderate</td>\n",
       "    </tr>\n",
       "    <tr>\n",
       "      <th>2</th>\n",
       "      <td>train_pid_3</td>\n",
       "      <td>New year : Somone else Feeling like 2020 will ...</td>\n",
       "      <td>moderate</td>\n",
       "    </tr>\n",
       "    <tr>\n",
       "      <th>3</th>\n",
       "      <td>train_pid_4</td>\n",
       "      <td>My story I guess : Hi, Im from Germany and my ...</td>\n",
       "      <td>moderate</td>\n",
       "    </tr>\n",
       "    <tr>\n",
       "      <th>4</th>\n",
       "      <td>train_pid_5</td>\n",
       "      <td>Sat in the dark and cried myself going into th...</td>\n",
       "      <td>moderate</td>\n",
       "    </tr>\n",
       "    <tr>\n",
       "      <th>...</th>\n",
       "      <td>...</td>\n",
       "      <td>...</td>\n",
       "      <td>...</td>\n",
       "    </tr>\n",
       "    <tr>\n",
       "      <th>8886</th>\n",
       "      <td>train_pid_8887</td>\n",
       "      <td>Ways to reverse memory loss from depression? :...</td>\n",
       "      <td>severe</td>\n",
       "    </tr>\n",
       "    <tr>\n",
       "      <th>8887</th>\n",
       "      <td>train_pid_8888</td>\n",
       "      <td>A Comprehensive Guide To Slowly Getting Better...</td>\n",
       "      <td>severe</td>\n",
       "    </tr>\n",
       "    <tr>\n",
       "      <th>8888</th>\n",
       "      <td>train_pid_8889</td>\n",
       "      <td>I don’t think college is right for me : TW: su...</td>\n",
       "      <td>severe</td>\n",
       "    </tr>\n",
       "    <tr>\n",
       "      <th>8889</th>\n",
       "      <td>train_pid_8890</td>\n",
       "      <td>Please help: Severe insomnia affecting me in m...</td>\n",
       "      <td>severe</td>\n",
       "    </tr>\n",
       "    <tr>\n",
       "      <th>8890</th>\n",
       "      <td>train_pid_8891</td>\n",
       "      <td>With each passing day my depression is getting...</td>\n",
       "      <td>severe</td>\n",
       "    </tr>\n",
       "  </tbody>\n",
       "</table>\n",
       "<p>8891 rows × 3 columns</p>\n",
       "</div>"
      ],
      "text/plain": [
       "                 PID                                          Text_data  \\\n",
       "0        train_pid_1  Waiting for my mind to have a breakdown once t...   \n",
       "1        train_pid_2  My new years resolution : I'm gonna get my ass...   \n",
       "2        train_pid_3  New year : Somone else Feeling like 2020 will ...   \n",
       "3        train_pid_4  My story I guess : Hi, Im from Germany and my ...   \n",
       "4        train_pid_5  Sat in the dark and cried myself going into th...   \n",
       "...              ...                                                ...   \n",
       "8886  train_pid_8887  Ways to reverse memory loss from depression? :...   \n",
       "8887  train_pid_8888  A Comprehensive Guide To Slowly Getting Better...   \n",
       "8888  train_pid_8889  I don’t think college is right for me : TW: su...   \n",
       "8889  train_pid_8890  Please help: Severe insomnia affecting me in m...   \n",
       "8890  train_pid_8891  With each passing day my depression is getting...   \n",
       "\n",
       "         Label  \n",
       "0     moderate  \n",
       "1     moderate  \n",
       "2     moderate  \n",
       "3     moderate  \n",
       "4     moderate  \n",
       "...        ...  \n",
       "8886    severe  \n",
       "8887    severe  \n",
       "8888    severe  \n",
       "8889    severe  \n",
       "8890    severe  \n",
       "\n",
       "[8891 rows x 3 columns]"
      ]
     },
     "execution_count": 3,
     "metadata": {},
     "output_type": "execute_result"
    }
   ],
   "source": [
    "df"
   ]
  },
  {
   "cell_type": "code",
   "execution_count": 4,
   "id": "48b44374-a1f7-4371-b3d0-c5d7f7b71baa",
   "metadata": {},
   "outputs": [
    {
     "data": {
      "text/plain": [
       "Label\n",
       "moderate          6019\n",
       "not depression    1971\n",
       "severe             901\n",
       "Name: count, dtype: int64"
      ]
     },
     "execution_count": 4,
     "metadata": {},
     "output_type": "execute_result"
    }
   ],
   "source": [
    "df['Label'].value_counts()"
   ]
  },
  {
   "cell_type": "code",
   "execution_count": 5,
   "id": "363bd4d8-464c-4c9c-a2db-9012d36bb782",
   "metadata": {},
   "outputs": [],
   "source": [
    "df.drop(df.keys()[0],axis=1,inplace=True)"
   ]
  },
  {
   "cell_type": "code",
   "execution_count": 6,
   "id": "bf444cb5-f9e5-427a-bfee-a3cd95761c46",
   "metadata": {},
   "outputs": [
    {
     "data": {
      "text/plain": [
       "Text_data    False\n",
       "Label        False\n",
       "dtype: bool"
      ]
     },
     "execution_count": 6,
     "metadata": {},
     "output_type": "execute_result"
    }
   ],
   "source": [
    "df.isnull().any()"
   ]
  },
  {
   "cell_type": "code",
   "execution_count": 7,
   "id": "81d383d4-0169-4267-915c-d84468fba24d",
   "metadata": {},
   "outputs": [],
   "source": [
    "import re"
   ]
  },
  {
   "cell_type": "code",
   "execution_count": 8,
   "id": "a0e8a1a9-3545-4a9e-a29c-754475349a4e",
   "metadata": {},
   "outputs": [],
   "source": [
    "df['Text_data']=df['Text_data'].apply(lambda x: re.sub(r\"[^a-zA-Z\\s]\",\"\",x).lower())"
   ]
  },
  {
   "cell_type": "code",
   "execution_count": 9,
   "id": "8cc8ae8e-ae6b-40ca-b6b6-03e8bceb900a",
   "metadata": {},
   "outputs": [
    {
     "data": {
      "text/html": [
       "<div>\n",
       "<style scoped>\n",
       "    .dataframe tbody tr th:only-of-type {\n",
       "        vertical-align: middle;\n",
       "    }\n",
       "\n",
       "    .dataframe tbody tr th {\n",
       "        vertical-align: top;\n",
       "    }\n",
       "\n",
       "    .dataframe thead th {\n",
       "        text-align: right;\n",
       "    }\n",
       "</style>\n",
       "<table border=\"1\" class=\"dataframe\">\n",
       "  <thead>\n",
       "    <tr style=\"text-align: right;\">\n",
       "      <th></th>\n",
       "      <th>Text_data</th>\n",
       "      <th>Label</th>\n",
       "    </tr>\n",
       "  </thead>\n",
       "  <tbody>\n",
       "    <tr>\n",
       "      <th>0</th>\n",
       "      <td>waiting for my mind to have a breakdown once t...</td>\n",
       "      <td>moderate</td>\n",
       "    </tr>\n",
       "    <tr>\n",
       "      <th>1</th>\n",
       "      <td>my new years resolution  im gonna get my ass i...</td>\n",
       "      <td>moderate</td>\n",
       "    </tr>\n",
       "    <tr>\n",
       "      <th>2</th>\n",
       "      <td>new year  somone else feeling like  will be th...</td>\n",
       "      <td>moderate</td>\n",
       "    </tr>\n",
       "    <tr>\n",
       "      <th>3</th>\n",
       "      <td>my story i guess  hi im from germany and my en...</td>\n",
       "      <td>moderate</td>\n",
       "    </tr>\n",
       "    <tr>\n",
       "      <th>4</th>\n",
       "      <td>sat in the dark and cried myself going into th...</td>\n",
       "      <td>moderate</td>\n",
       "    </tr>\n",
       "    <tr>\n",
       "      <th>...</th>\n",
       "      <td>...</td>\n",
       "      <td>...</td>\n",
       "    </tr>\n",
       "    <tr>\n",
       "      <th>8886</th>\n",
       "      <td>ways to reverse memory loss from depression  i...</td>\n",
       "      <td>severe</td>\n",
       "    </tr>\n",
       "    <tr>\n",
       "      <th>8887</th>\n",
       "      <td>a comprehensive guide to slowly getting better...</td>\n",
       "      <td>severe</td>\n",
       "    </tr>\n",
       "    <tr>\n",
       "      <th>8888</th>\n",
       "      <td>i dont think college is right for me  tw suici...</td>\n",
       "      <td>severe</td>\n",
       "    </tr>\n",
       "    <tr>\n",
       "      <th>8889</th>\n",
       "      <td>please help severe insomnia affecting me in ma...</td>\n",
       "      <td>severe</td>\n",
       "    </tr>\n",
       "    <tr>\n",
       "      <th>8890</th>\n",
       "      <td>with each passing day my depression is getting...</td>\n",
       "      <td>severe</td>\n",
       "    </tr>\n",
       "  </tbody>\n",
       "</table>\n",
       "<p>8891 rows × 2 columns</p>\n",
       "</div>"
      ],
      "text/plain": [
       "                                              Text_data     Label\n",
       "0     waiting for my mind to have a breakdown once t...  moderate\n",
       "1     my new years resolution  im gonna get my ass i...  moderate\n",
       "2     new year  somone else feeling like  will be th...  moderate\n",
       "3     my story i guess  hi im from germany and my en...  moderate\n",
       "4     sat in the dark and cried myself going into th...  moderate\n",
       "...                                                 ...       ...\n",
       "8886  ways to reverse memory loss from depression  i...    severe\n",
       "8887  a comprehensive guide to slowly getting better...    severe\n",
       "8888  i dont think college is right for me  tw suici...    severe\n",
       "8889  please help severe insomnia affecting me in ma...    severe\n",
       "8890  with each passing day my depression is getting...    severe\n",
       "\n",
       "[8891 rows x 2 columns]"
      ]
     },
     "execution_count": 9,
     "metadata": {},
     "output_type": "execute_result"
    }
   ],
   "source": [
    "df"
   ]
  },
  {
   "cell_type": "code",
   "execution_count": 10,
   "id": "72534e63-553e-4664-81be-054da420adbd",
   "metadata": {},
   "outputs": [],
   "source": [
    "from nltk.tokenize import word_tokenize"
   ]
  },
  {
   "cell_type": "code",
   "execution_count": 11,
   "id": "57075e7b-3cef-466f-a99b-83080f7d3762",
   "metadata": {},
   "outputs": [],
   "source": [
    "df['Text_data']=df['Text_data'].apply(lambda x: word_tokenize(x))"
   ]
  },
  {
   "cell_type": "code",
   "execution_count": 12,
   "id": "9c2c7916-9a2c-49c4-8306-9347b9f36d40",
   "metadata": {},
   "outputs": [
    {
     "data": {
      "text/html": [
       "<div>\n",
       "<style scoped>\n",
       "    .dataframe tbody tr th:only-of-type {\n",
       "        vertical-align: middle;\n",
       "    }\n",
       "\n",
       "    .dataframe tbody tr th {\n",
       "        vertical-align: top;\n",
       "    }\n",
       "\n",
       "    .dataframe thead th {\n",
       "        text-align: right;\n",
       "    }\n",
       "</style>\n",
       "<table border=\"1\" class=\"dataframe\">\n",
       "  <thead>\n",
       "    <tr style=\"text-align: right;\">\n",
       "      <th></th>\n",
       "      <th>Text_data</th>\n",
       "      <th>Label</th>\n",
       "    </tr>\n",
       "  </thead>\n",
       "  <tbody>\n",
       "    <tr>\n",
       "      <th>0</th>\n",
       "      <td>[waiting, for, my, mind, to, have, a, breakdow...</td>\n",
       "      <td>moderate</td>\n",
       "    </tr>\n",
       "    <tr>\n",
       "      <th>1</th>\n",
       "      <td>[my, new, years, resolution, im, gon, na, get,...</td>\n",
       "      <td>moderate</td>\n",
       "    </tr>\n",
       "    <tr>\n",
       "      <th>2</th>\n",
       "      <td>[new, year, somone, else, feeling, like, will,...</td>\n",
       "      <td>moderate</td>\n",
       "    </tr>\n",
       "    <tr>\n",
       "      <th>3</th>\n",
       "      <td>[my, story, i, guess, hi, im, from, germany, a...</td>\n",
       "      <td>moderate</td>\n",
       "    </tr>\n",
       "    <tr>\n",
       "      <th>4</th>\n",
       "      <td>[sat, in, the, dark, and, cried, myself, going...</td>\n",
       "      <td>moderate</td>\n",
       "    </tr>\n",
       "    <tr>\n",
       "      <th>...</th>\n",
       "      <td>...</td>\n",
       "      <td>...</td>\n",
       "    </tr>\n",
       "    <tr>\n",
       "      <th>8886</th>\n",
       "      <td>[ways, to, reverse, memory, loss, from, depres...</td>\n",
       "      <td>severe</td>\n",
       "    </tr>\n",
       "    <tr>\n",
       "      <th>8887</th>\n",
       "      <td>[a, comprehensive, guide, to, slowly, getting,...</td>\n",
       "      <td>severe</td>\n",
       "    </tr>\n",
       "    <tr>\n",
       "      <th>8888</th>\n",
       "      <td>[i, dont, think, college, is, right, for, me, ...</td>\n",
       "      <td>severe</td>\n",
       "    </tr>\n",
       "    <tr>\n",
       "      <th>8889</th>\n",
       "      <td>[please, help, severe, insomnia, affecting, me...</td>\n",
       "      <td>severe</td>\n",
       "    </tr>\n",
       "    <tr>\n",
       "      <th>8890</th>\n",
       "      <td>[with, each, passing, day, my, depression, is,...</td>\n",
       "      <td>severe</td>\n",
       "    </tr>\n",
       "  </tbody>\n",
       "</table>\n",
       "<p>8891 rows × 2 columns</p>\n",
       "</div>"
      ],
      "text/plain": [
       "                                              Text_data     Label\n",
       "0     [waiting, for, my, mind, to, have, a, breakdow...  moderate\n",
       "1     [my, new, years, resolution, im, gon, na, get,...  moderate\n",
       "2     [new, year, somone, else, feeling, like, will,...  moderate\n",
       "3     [my, story, i, guess, hi, im, from, germany, a...  moderate\n",
       "4     [sat, in, the, dark, and, cried, myself, going...  moderate\n",
       "...                                                 ...       ...\n",
       "8886  [ways, to, reverse, memory, loss, from, depres...    severe\n",
       "8887  [a, comprehensive, guide, to, slowly, getting,...    severe\n",
       "8888  [i, dont, think, college, is, right, for, me, ...    severe\n",
       "8889  [please, help, severe, insomnia, affecting, me...    severe\n",
       "8890  [with, each, passing, day, my, depression, is,...    severe\n",
       "\n",
       "[8891 rows x 2 columns]"
      ]
     },
     "execution_count": 12,
     "metadata": {},
     "output_type": "execute_result"
    }
   ],
   "source": [
    "df"
   ]
  },
  {
   "cell_type": "code",
   "execution_count": 13,
   "id": "015e2787-557b-4c57-9019-a28585b38595",
   "metadata": {},
   "outputs": [],
   "source": [
    "import nltk"
   ]
  },
  {
   "cell_type": "code",
   "execution_count": 15,
   "id": "4e659171-06ea-412a-bbb7-21d725c5f053",
   "metadata": {},
   "outputs": [],
   "source": [
    "from nltk.corpus import stopwords"
   ]
  },
  {
   "cell_type": "code",
   "execution_count": 16,
   "id": "e8bce791-cf90-4f45-874e-8bd6cb48fbd8",
   "metadata": {},
   "outputs": [],
   "source": [
    "stop_words=set(stopwords.words(\"english\"))"
   ]
  },
  {
   "cell_type": "code",
   "execution_count": 17,
   "id": "0de5ff0e-b8f7-4aea-9af1-d73ce3649924",
   "metadata": {},
   "outputs": [],
   "source": [
    "df['Text_data']=df['Text_data'].apply(lambda x:[w for w in x if w not in stop_words])"
   ]
  },
  {
   "cell_type": "code",
   "execution_count": 18,
   "id": "9f3f933c-427b-40b4-a3e5-7287c3450cb3",
   "metadata": {},
   "outputs": [
    {
     "data": {
      "text/html": [
       "<div>\n",
       "<style scoped>\n",
       "    .dataframe tbody tr th:only-of-type {\n",
       "        vertical-align: middle;\n",
       "    }\n",
       "\n",
       "    .dataframe tbody tr th {\n",
       "        vertical-align: top;\n",
       "    }\n",
       "\n",
       "    .dataframe thead th {\n",
       "        text-align: right;\n",
       "    }\n",
       "</style>\n",
       "<table border=\"1\" class=\"dataframe\">\n",
       "  <thead>\n",
       "    <tr style=\"text-align: right;\">\n",
       "      <th></th>\n",
       "      <th>Text_data</th>\n",
       "      <th>Label</th>\n",
       "    </tr>\n",
       "  </thead>\n",
       "  <tbody>\n",
       "    <tr>\n",
       "      <th>0</th>\n",
       "      <td>[waiting, mind, breakdown, new, year, feeling,...</td>\n",
       "      <td>moderate</td>\n",
       "    </tr>\n",
       "    <tr>\n",
       "      <th>1</th>\n",
       "      <td>[new, years, resolution, im, gon, na, get, ass...</td>\n",
       "      <td>moderate</td>\n",
       "    </tr>\n",
       "    <tr>\n",
       "      <th>2</th>\n",
       "      <td>[new, year, somone, else, feeling, like, last,...</td>\n",
       "      <td>moderate</td>\n",
       "    </tr>\n",
       "    <tr>\n",
       "      <th>3</th>\n",
       "      <td>[story, guess, hi, im, germany, english, mostl...</td>\n",
       "      <td>moderate</td>\n",
       "    </tr>\n",
       "    <tr>\n",
       "      <th>4</th>\n",
       "      <td>[sat, dark, cried, going, new, year, great, st...</td>\n",
       "      <td>moderate</td>\n",
       "    </tr>\n",
       "    <tr>\n",
       "      <th>...</th>\n",
       "      <td>...</td>\n",
       "      <td>...</td>\n",
       "    </tr>\n",
       "    <tr>\n",
       "      <th>8886</th>\n",
       "      <td>[ways, reverse, memory, loss, depression, ive,...</td>\n",
       "      <td>severe</td>\n",
       "    </tr>\n",
       "    <tr>\n",
       "      <th>8887</th>\n",
       "      <td>[comprehensive, guide, slowly, getting, better...</td>\n",
       "      <td>severe</td>\n",
       "    </tr>\n",
       "    <tr>\n",
       "      <th>8888</th>\n",
       "      <td>[dont, think, college, right, tw, suicide, men...</td>\n",
       "      <td>severe</td>\n",
       "    </tr>\n",
       "    <tr>\n",
       "      <th>8889</th>\n",
       "      <td>[please, help, severe, insomnia, affecting, ma...</td>\n",
       "      <td>severe</td>\n",
       "    </tr>\n",
       "    <tr>\n",
       "      <th>8890</th>\n",
       "      <td>[passing, day, depression, getting, worse, wor...</td>\n",
       "      <td>severe</td>\n",
       "    </tr>\n",
       "  </tbody>\n",
       "</table>\n",
       "<p>8891 rows × 2 columns</p>\n",
       "</div>"
      ],
      "text/plain": [
       "                                              Text_data     Label\n",
       "0     [waiting, mind, breakdown, new, year, feeling,...  moderate\n",
       "1     [new, years, resolution, im, gon, na, get, ass...  moderate\n",
       "2     [new, year, somone, else, feeling, like, last,...  moderate\n",
       "3     [story, guess, hi, im, germany, english, mostl...  moderate\n",
       "4     [sat, dark, cried, going, new, year, great, st...  moderate\n",
       "...                                                 ...       ...\n",
       "8886  [ways, reverse, memory, loss, depression, ive,...    severe\n",
       "8887  [comprehensive, guide, slowly, getting, better...    severe\n",
       "8888  [dont, think, college, right, tw, suicide, men...    severe\n",
       "8889  [please, help, severe, insomnia, affecting, ma...    severe\n",
       "8890  [passing, day, depression, getting, worse, wor...    severe\n",
       "\n",
       "[8891 rows x 2 columns]"
      ]
     },
     "execution_count": 18,
     "metadata": {},
     "output_type": "execute_result"
    }
   ],
   "source": [
    "df"
   ]
  },
  {
   "cell_type": "code",
   "execution_count": 19,
   "id": "5d043bba-7c23-4603-8335-a1acd6ea19b1",
   "metadata": {},
   "outputs": [],
   "source": [
    "from nltk.stem import WordNetLemmatizer"
   ]
  },
  {
   "cell_type": "code",
   "execution_count": 20,
   "id": "3ed71082-e00a-43c9-ac4f-e1f4d5d47ee5",
   "metadata": {},
   "outputs": [],
   "source": [
    "from nltk.corpus import wordnet"
   ]
  },
  {
   "cell_type": "code",
   "execution_count": 21,
   "id": "9f44fd68-e00c-4b32-ac2a-2cc38a31d9b0",
   "metadata": {},
   "outputs": [],
   "source": [
    "pos_map={\n",
    "    'J':wordnet.ADJ,\n",
    "    'N':wordnet.NOUN,\n",
    "    'V': wordnet.VERB,\n",
    "    'R':wordnet.ADV\n",
    "}"
   ]
  },
  {
   "cell_type": "code",
   "execution_count": 22,
   "id": "98b6a5e9-0e0b-4e94-86ee-6b5b8c59ee35",
   "metadata": {},
   "outputs": [],
   "source": [
    "lemmatizer=WordNetLemmatizer()"
   ]
  },
  {
   "cell_type": "code",
   "execution_count": 23,
   "id": "0aa7ac75-2910-4d24-b2db-0477b1cbb58f",
   "metadata": {},
   "outputs": [],
   "source": [
    "def lemmatize_tokens(tokens):\n",
    "    pos_tags=nltk.pos_tag(tokens)\n",
    "    return [lemmatizer.lemmatize(word,pos_map.get(tag[0],wordnet.NOUN)) for word,tag in pos_tags]"
   ]
  },
  {
   "cell_type": "code",
   "execution_count": 24,
   "id": "6c31aec4-04ca-42fa-ad87-87a5c1da01f8",
   "metadata": {},
   "outputs": [],
   "source": [
    "df['Text_data']=df['Text_data'].apply(lemmatize_tokens)"
   ]
  },
  {
   "cell_type": "code",
   "execution_count": 25,
   "id": "e1d0992b-c61f-4a2f-9242-d5af62307da1",
   "metadata": {},
   "outputs": [
    {
     "data": {
      "text/html": [
       "<div>\n",
       "<style scoped>\n",
       "    .dataframe tbody tr th:only-of-type {\n",
       "        vertical-align: middle;\n",
       "    }\n",
       "\n",
       "    .dataframe tbody tr th {\n",
       "        vertical-align: top;\n",
       "    }\n",
       "\n",
       "    .dataframe thead th {\n",
       "        text-align: right;\n",
       "    }\n",
       "</style>\n",
       "<table border=\"1\" class=\"dataframe\">\n",
       "  <thead>\n",
       "    <tr style=\"text-align: right;\">\n",
       "      <th></th>\n",
       "      <th>Text_data</th>\n",
       "      <th>Label</th>\n",
       "    </tr>\n",
       "  </thead>\n",
       "  <tbody>\n",
       "    <tr>\n",
       "      <th>0</th>\n",
       "      <td>[wait, mind, breakdown, new, year, feeling, is...</td>\n",
       "      <td>moderate</td>\n",
       "    </tr>\n",
       "    <tr>\n",
       "      <th>1</th>\n",
       "      <td>[new, year, resolution, im, gon, na, get, ass,...</td>\n",
       "      <td>moderate</td>\n",
       "    </tr>\n",
       "    <tr>\n",
       "      <th>2</th>\n",
       "      <td>[new, year, somone, else, feel, like, last, ye...</td>\n",
       "      <td>moderate</td>\n",
       "    </tr>\n",
       "    <tr>\n",
       "      <th>3</th>\n",
       "      <td>[story, guess, hi, im, germany, english, mostl...</td>\n",
       "      <td>moderate</td>\n",
       "    </tr>\n",
       "    <tr>\n",
       "      <th>4</th>\n",
       "      <td>[sat, dark, cry, go, new, year, great, start]</td>\n",
       "      <td>moderate</td>\n",
       "    </tr>\n",
       "    <tr>\n",
       "      <th>...</th>\n",
       "      <td>...</td>\n",
       "      <td>...</td>\n",
       "    </tr>\n",
       "    <tr>\n",
       "      <th>8886</th>\n",
       "      <td>[way, reverse, memory, loss, depression, ive, ...</td>\n",
       "      <td>severe</td>\n",
       "    </tr>\n",
       "    <tr>\n",
       "      <th>8887</th>\n",
       "      <td>[comprehensive, guide, slowly, get, well, lose...</td>\n",
       "      <td>severe</td>\n",
       "    </tr>\n",
       "    <tr>\n",
       "      <th>8888</th>\n",
       "      <td>[dont, think, college, right, tw, suicide, men...</td>\n",
       "      <td>severe</td>\n",
       "    </tr>\n",
       "    <tr>\n",
       "      <th>8889</th>\n",
       "      <td>[please, help, severe, insomnia, affect, many,...</td>\n",
       "      <td>severe</td>\n",
       "    </tr>\n",
       "    <tr>\n",
       "      <th>8890</th>\n",
       "      <td>[pass, day, depression, get, bad, bad, dont, k...</td>\n",
       "      <td>severe</td>\n",
       "    </tr>\n",
       "  </tbody>\n",
       "</table>\n",
       "<p>8891 rows × 2 columns</p>\n",
       "</div>"
      ],
      "text/plain": [
       "                                              Text_data     Label\n",
       "0     [wait, mind, breakdown, new, year, feeling, is...  moderate\n",
       "1     [new, year, resolution, im, gon, na, get, ass,...  moderate\n",
       "2     [new, year, somone, else, feel, like, last, ye...  moderate\n",
       "3     [story, guess, hi, im, germany, english, mostl...  moderate\n",
       "4         [sat, dark, cry, go, new, year, great, start]  moderate\n",
       "...                                                 ...       ...\n",
       "8886  [way, reverse, memory, loss, depression, ive, ...    severe\n",
       "8887  [comprehensive, guide, slowly, get, well, lose...    severe\n",
       "8888  [dont, think, college, right, tw, suicide, men...    severe\n",
       "8889  [please, help, severe, insomnia, affect, many,...    severe\n",
       "8890  [pass, day, depression, get, bad, bad, dont, k...    severe\n",
       "\n",
       "[8891 rows x 2 columns]"
      ]
     },
     "execution_count": 25,
     "metadata": {},
     "output_type": "execute_result"
    }
   ],
   "source": [
    "df"
   ]
  },
  {
   "cell_type": "code",
   "execution_count": 26,
   "id": "804b1717-1604-4546-abd2-96fb0b941853",
   "metadata": {},
   "outputs": [],
   "source": [
    "df.to_csv(\"preprocessed_data.csv\",index=False)"
   ]
  },
  {
   "cell_type": "code",
   "execution_count": null,
   "id": "c5c8b7b6-db7e-4b82-a8b5-0fd75da75038",
   "metadata": {},
   "outputs": [],
   "source": []
  }
 ],
 "metadata": {
  "kernelspec": {
   "display_name": "Python 3 (ipykernel)",
   "language": "python",
   "name": "python3"
  },
  "language_info": {
   "codemirror_mode": {
    "name": "ipython",
    "version": 3
   },
   "file_extension": ".py",
   "mimetype": "text/x-python",
   "name": "python",
   "nbconvert_exporter": "python",
   "pygments_lexer": "ipython3",
   "version": "3.13.6"
  }
 },
 "nbformat": 4,
 "nbformat_minor": 5
}
