{
 "cells": [
  {
   "cell_type": "code",
   "execution_count": 1,
   "id": "a00e4a04-1c20-4e6a-bc16-d8385f115251",
   "metadata": {},
   "outputs": [],
   "source": [
    "import pandas as pd\n",
    "import numpy as np\n",
    "import torch"
   ]
  },
  {
   "cell_type": "code",
   "execution_count": 2,
   "id": "a594fef9-db7e-4268-9841-319a4323e196",
   "metadata": {},
   "outputs": [],
   "source": [
    "df_train=pd.read_csv(\"data/train.csv\")\n",
    "df_test=pd.read_csv(\"data/test.csv\")"
   ]
  },
  {
   "cell_type": "code",
   "execution_count": 3,
   "id": "457f342b-ee35-434d-a98e-4f8d86966c8d",
   "metadata": {},
   "outputs": [
    {
     "data": {
      "text/html": [
       "<div>\n",
       "<style scoped>\n",
       "    .dataframe tbody tr th:only-of-type {\n",
       "        vertical-align: middle;\n",
       "    }\n",
       "\n",
       "    .dataframe tbody tr th {\n",
       "        vertical-align: top;\n",
       "    }\n",
       "\n",
       "    .dataframe thead th {\n",
       "        text-align: right;\n",
       "    }\n",
       "</style>\n",
       "<table border=\"1\" class=\"dataframe\">\n",
       "  <thead>\n",
       "    <tr style=\"text-align: right;\">\n",
       "      <th></th>\n",
       "      <th>pid</th>\n",
       "      <th>text</th>\n",
       "      <th>labels</th>\n",
       "    </tr>\n",
       "  </thead>\n",
       "  <tbody>\n",
       "    <tr>\n",
       "      <th>0</th>\n",
       "      <td>train_pid_7991</td>\n",
       "      <td>At this point just genuinely curious what sort...</td>\n",
       "      <td>0</td>\n",
       "    </tr>\n",
       "    <tr>\n",
       "      <th>1</th>\n",
       "      <td>train_pid_7992</td>\n",
       "      <td>I have literally tried everything.... : I'm st...</td>\n",
       "      <td>0</td>\n",
       "    </tr>\n",
       "    <tr>\n",
       "      <th>2</th>\n",
       "      <td>train_pid_7995</td>\n",
       "      <td>I'm really struggling : So I don't know how to...</td>\n",
       "      <td>0</td>\n",
       "    </tr>\n",
       "    <tr>\n",
       "      <th>3</th>\n",
       "      <td>train_pid_7996</td>\n",
       "      <td>My meds aren’t making my depression any better...</td>\n",
       "      <td>0</td>\n",
       "    </tr>\n",
       "    <tr>\n",
       "      <th>4</th>\n",
       "      <td>train_pid_7997</td>\n",
       "      <td>Hi I'm unwell : I'm 21 now, \"vice ridden\", and...</td>\n",
       "      <td>0</td>\n",
       "    </tr>\n",
       "    <tr>\n",
       "      <th>...</th>\n",
       "      <td>...</td>\n",
       "      <td>...</td>\n",
       "      <td>...</td>\n",
       "    </tr>\n",
       "    <tr>\n",
       "      <th>6001</th>\n",
       "      <td>dev_pid_3724</td>\n",
       "      <td>What's even the point ? : [removed]</td>\n",
       "      <td>2</td>\n",
       "    </tr>\n",
       "    <tr>\n",
       "      <th>6002</th>\n",
       "      <td>dev_pid_3725</td>\n",
       "      <td>I just want everyone to know that their not al...</td>\n",
       "      <td>2</td>\n",
       "    </tr>\n",
       "    <tr>\n",
       "      <th>6003</th>\n",
       "      <td>dev_pid_3726</td>\n",
       "      <td>I hope I get the coronavirus : I hope I get th...</td>\n",
       "      <td>2</td>\n",
       "    </tr>\n",
       "    <tr>\n",
       "      <th>6004</th>\n",
       "      <td>dev_pid_3727</td>\n",
       "      <td>Sometimes I really wonder if being less ugly w...</td>\n",
       "      <td>2</td>\n",
       "    </tr>\n",
       "    <tr>\n",
       "      <th>6005</th>\n",
       "      <td>dev_pid_3728</td>\n",
       "      <td>March Break Sucks : It's the same thing every ...</td>\n",
       "      <td>2</td>\n",
       "    </tr>\n",
       "  </tbody>\n",
       "</table>\n",
       "<p>6006 rows × 3 columns</p>\n",
       "</div>"
      ],
      "text/plain": [
       "                 pid                                               text  \\\n",
       "0     train_pid_7991  At this point just genuinely curious what sort...   \n",
       "1     train_pid_7992  I have literally tried everything.... : I'm st...   \n",
       "2     train_pid_7995  I'm really struggling : So I don't know how to...   \n",
       "3     train_pid_7996  My meds aren’t making my depression any better...   \n",
       "4     train_pid_7997  Hi I'm unwell : I'm 21 now, \"vice ridden\", and...   \n",
       "...              ...                                                ...   \n",
       "6001    dev_pid_3724                What's even the point ? : [removed]   \n",
       "6002    dev_pid_3725  I just want everyone to know that their not al...   \n",
       "6003    dev_pid_3726  I hope I get the coronavirus : I hope I get th...   \n",
       "6004    dev_pid_3727  Sometimes I really wonder if being less ugly w...   \n",
       "6005    dev_pid_3728  March Break Sucks : It's the same thing every ...   \n",
       "\n",
       "      labels  \n",
       "0          0  \n",
       "1          0  \n",
       "2          0  \n",
       "3          0  \n",
       "4          0  \n",
       "...      ...  \n",
       "6001       2  \n",
       "6002       2  \n",
       "6003       2  \n",
       "6004       2  \n",
       "6005       2  \n",
       "\n",
       "[6006 rows x 3 columns]"
      ]
     },
     "execution_count": 3,
     "metadata": {},
     "output_type": "execute_result"
    }
   ],
   "source": [
    "df_train"
   ]
  },
  {
   "cell_type": "code",
   "execution_count": 4,
   "id": "44fcd157-c266-4d44-92d8-f89db37aba93",
   "metadata": {},
   "outputs": [
    {
     "data": {
      "text/html": [
       "<div>\n",
       "<style scoped>\n",
       "    .dataframe tbody tr th:only-of-type {\n",
       "        vertical-align: middle;\n",
       "    }\n",
       "\n",
       "    .dataframe tbody tr th {\n",
       "        vertical-align: top;\n",
       "    }\n",
       "\n",
       "    .dataframe thead th {\n",
       "        text-align: right;\n",
       "    }\n",
       "</style>\n",
       "<table border=\"1\" class=\"dataframe\">\n",
       "  <thead>\n",
       "    <tr style=\"text-align: right;\">\n",
       "      <th></th>\n",
       "      <th>pid</th>\n",
       "      <th>text</th>\n",
       "      <th>labels</th>\n",
       "    </tr>\n",
       "  </thead>\n",
       "  <tbody>\n",
       "    <tr>\n",
       "      <th>0</th>\n",
       "      <td>test_pid_1</td>\n",
       "      <td>Im scared : This is it. I lie to myself every ...</td>\n",
       "      <td>1</td>\n",
       "    </tr>\n",
       "    <tr>\n",
       "      <th>1</th>\n",
       "      <td>test_pid_2</td>\n",
       "      <td>New to this but just wanted to vent : I just f...</td>\n",
       "      <td>1</td>\n",
       "    </tr>\n",
       "    <tr>\n",
       "      <th>2</th>\n",
       "      <td>test_pid_3</td>\n",
       "      <td>I’m sad : It’s kinda always been an issue. I w...</td>\n",
       "      <td>1</td>\n",
       "    </tr>\n",
       "    <tr>\n",
       "      <th>3</th>\n",
       "      <td>test_pid_4</td>\n",
       "      <td>Lonely but not alone. : All of my immediately ...</td>\n",
       "      <td>1</td>\n",
       "    </tr>\n",
       "    <tr>\n",
       "      <th>4</th>\n",
       "      <td>test_pid_5</td>\n",
       "      <td>This year has been trash. : I dont know why I’...</td>\n",
       "      <td>1</td>\n",
       "    </tr>\n",
       "    <tr>\n",
       "      <th>...</th>\n",
       "      <td>...</td>\n",
       "      <td>...</td>\n",
       "      <td>...</td>\n",
       "    </tr>\n",
       "    <tr>\n",
       "      <th>3240</th>\n",
       "      <td>test_pid_3241</td>\n",
       "      <td>Feeling lonely. : Hi reddit, I haven’t posted ...</td>\n",
       "      <td>0</td>\n",
       "    </tr>\n",
       "    <tr>\n",
       "      <th>3241</th>\n",
       "      <td>test_pid_3242</td>\n",
       "      <td>When would suicide be right? : So I got back f...</td>\n",
       "      <td>0</td>\n",
       "    </tr>\n",
       "    <tr>\n",
       "      <th>3242</th>\n",
       "      <td>test_pid_3243</td>\n",
       "      <td>Lowest I’ve ever been ever. : To make a long s...</td>\n",
       "      <td>0</td>\n",
       "    </tr>\n",
       "    <tr>\n",
       "      <th>3243</th>\n",
       "      <td>test_pid_3244</td>\n",
       "      <td>Does the Toxoplasma Gondii ruined my life ? (f...</td>\n",
       "      <td>0</td>\n",
       "    </tr>\n",
       "    <tr>\n",
       "      <th>3244</th>\n",
       "      <td>test_pid_3245</td>\n",
       "      <td>Getting the correct diagnosis : Currently goin...</td>\n",
       "      <td>0</td>\n",
       "    </tr>\n",
       "  </tbody>\n",
       "</table>\n",
       "<p>3245 rows × 3 columns</p>\n",
       "</div>"
      ],
      "text/plain": [
       "                pid                                               text  labels\n",
       "0        test_pid_1  Im scared : This is it. I lie to myself every ...       1\n",
       "1        test_pid_2  New to this but just wanted to vent : I just f...       1\n",
       "2        test_pid_3  I’m sad : It’s kinda always been an issue. I w...       1\n",
       "3        test_pid_4  Lonely but not alone. : All of my immediately ...       1\n",
       "4        test_pid_5  This year has been trash. : I dont know why I’...       1\n",
       "...             ...                                                ...     ...\n",
       "3240  test_pid_3241  Feeling lonely. : Hi reddit, I haven’t posted ...       0\n",
       "3241  test_pid_3242  When would suicide be right? : So I got back f...       0\n",
       "3242  test_pid_3243  Lowest I’ve ever been ever. : To make a long s...       0\n",
       "3243  test_pid_3244  Does the Toxoplasma Gondii ruined my life ? (f...       0\n",
       "3244  test_pid_3245  Getting the correct diagnosis : Currently goin...       0\n",
       "\n",
       "[3245 rows x 3 columns]"
      ]
     },
     "execution_count": 4,
     "metadata": {},
     "output_type": "execute_result"
    }
   ],
   "source": [
    "df_test"
   ]
  },
  {
   "cell_type": "code",
   "execution_count": 5,
   "id": "796129b8-aa62-4ef8-a614-ea4ad052b389",
   "metadata": {},
   "outputs": [],
   "source": [
    "df_train.drop('pid',axis=1,inplace=True)\n",
    "df_test.drop('pid', axis=1, inplace=True)"
   ]
  },
  {
   "cell_type": "code",
   "execution_count": 6,
   "id": "27e78d84-3f58-4481-82d9-721e6a3b3fb2",
   "metadata": {},
   "outputs": [
    {
     "data": {
      "text/html": [
       "<div>\n",
       "<style scoped>\n",
       "    .dataframe tbody tr th:only-of-type {\n",
       "        vertical-align: middle;\n",
       "    }\n",
       "\n",
       "    .dataframe tbody tr th {\n",
       "        vertical-align: top;\n",
       "    }\n",
       "\n",
       "    .dataframe thead th {\n",
       "        text-align: right;\n",
       "    }\n",
       "</style>\n",
       "<table border=\"1\" class=\"dataframe\">\n",
       "  <thead>\n",
       "    <tr style=\"text-align: right;\">\n",
       "      <th></th>\n",
       "      <th>text</th>\n",
       "      <th>labels</th>\n",
       "    </tr>\n",
       "  </thead>\n",
       "  <tbody>\n",
       "    <tr>\n",
       "      <th>0</th>\n",
       "      <td>At this point just genuinely curious what sort...</td>\n",
       "      <td>0</td>\n",
       "    </tr>\n",
       "    <tr>\n",
       "      <th>1</th>\n",
       "      <td>I have literally tried everything.... : I'm st...</td>\n",
       "      <td>0</td>\n",
       "    </tr>\n",
       "    <tr>\n",
       "      <th>2</th>\n",
       "      <td>I'm really struggling : So I don't know how to...</td>\n",
       "      <td>0</td>\n",
       "    </tr>\n",
       "    <tr>\n",
       "      <th>3</th>\n",
       "      <td>My meds aren’t making my depression any better...</td>\n",
       "      <td>0</td>\n",
       "    </tr>\n",
       "    <tr>\n",
       "      <th>4</th>\n",
       "      <td>Hi I'm unwell : I'm 21 now, \"vice ridden\", and...</td>\n",
       "      <td>0</td>\n",
       "    </tr>\n",
       "    <tr>\n",
       "      <th>...</th>\n",
       "      <td>...</td>\n",
       "      <td>...</td>\n",
       "    </tr>\n",
       "    <tr>\n",
       "      <th>6001</th>\n",
       "      <td>What's even the point ? : [removed]</td>\n",
       "      <td>2</td>\n",
       "    </tr>\n",
       "    <tr>\n",
       "      <th>6002</th>\n",
       "      <td>I just want everyone to know that their not al...</td>\n",
       "      <td>2</td>\n",
       "    </tr>\n",
       "    <tr>\n",
       "      <th>6003</th>\n",
       "      <td>I hope I get the coronavirus : I hope I get th...</td>\n",
       "      <td>2</td>\n",
       "    </tr>\n",
       "    <tr>\n",
       "      <th>6004</th>\n",
       "      <td>Sometimes I really wonder if being less ugly w...</td>\n",
       "      <td>2</td>\n",
       "    </tr>\n",
       "    <tr>\n",
       "      <th>6005</th>\n",
       "      <td>March Break Sucks : It's the same thing every ...</td>\n",
       "      <td>2</td>\n",
       "    </tr>\n",
       "  </tbody>\n",
       "</table>\n",
       "<p>6006 rows × 2 columns</p>\n",
       "</div>"
      ],
      "text/plain": [
       "                                                   text  labels\n",
       "0     At this point just genuinely curious what sort...       0\n",
       "1     I have literally tried everything.... : I'm st...       0\n",
       "2     I'm really struggling : So I don't know how to...       0\n",
       "3     My meds aren’t making my depression any better...       0\n",
       "4     Hi I'm unwell : I'm 21 now, \"vice ridden\", and...       0\n",
       "...                                                 ...     ...\n",
       "6001                What's even the point ? : [removed]       2\n",
       "6002  I just want everyone to know that their not al...       2\n",
       "6003  I hope I get the coronavirus : I hope I get th...       2\n",
       "6004  Sometimes I really wonder if being less ugly w...       2\n",
       "6005  March Break Sucks : It's the same thing every ...       2\n",
       "\n",
       "[6006 rows x 2 columns]"
      ]
     },
     "execution_count": 6,
     "metadata": {},
     "output_type": "execute_result"
    }
   ],
   "source": [
    "df_train"
   ]
  },
  {
   "cell_type": "code",
   "execution_count": 7,
   "id": "80101f62-36b0-48ac-b620-9c3b20c255ea",
   "metadata": {},
   "outputs": [
    {
     "data": {
      "text/html": [
       "<div>\n",
       "<style scoped>\n",
       "    .dataframe tbody tr th:only-of-type {\n",
       "        vertical-align: middle;\n",
       "    }\n",
       "\n",
       "    .dataframe tbody tr th {\n",
       "        vertical-align: top;\n",
       "    }\n",
       "\n",
       "    .dataframe thead th {\n",
       "        text-align: right;\n",
       "    }\n",
       "</style>\n",
       "<table border=\"1\" class=\"dataframe\">\n",
       "  <thead>\n",
       "    <tr style=\"text-align: right;\">\n",
       "      <th></th>\n",
       "      <th>text</th>\n",
       "      <th>labels</th>\n",
       "    </tr>\n",
       "  </thead>\n",
       "  <tbody>\n",
       "    <tr>\n",
       "      <th>0</th>\n",
       "      <td>Im scared : This is it. I lie to myself every ...</td>\n",
       "      <td>1</td>\n",
       "    </tr>\n",
       "    <tr>\n",
       "      <th>1</th>\n",
       "      <td>New to this but just wanted to vent : I just f...</td>\n",
       "      <td>1</td>\n",
       "    </tr>\n",
       "    <tr>\n",
       "      <th>2</th>\n",
       "      <td>I’m sad : It’s kinda always been an issue. I w...</td>\n",
       "      <td>1</td>\n",
       "    </tr>\n",
       "    <tr>\n",
       "      <th>3</th>\n",
       "      <td>Lonely but not alone. : All of my immediately ...</td>\n",
       "      <td>1</td>\n",
       "    </tr>\n",
       "    <tr>\n",
       "      <th>4</th>\n",
       "      <td>This year has been trash. : I dont know why I’...</td>\n",
       "      <td>1</td>\n",
       "    </tr>\n",
       "    <tr>\n",
       "      <th>...</th>\n",
       "      <td>...</td>\n",
       "      <td>...</td>\n",
       "    </tr>\n",
       "    <tr>\n",
       "      <th>3240</th>\n",
       "      <td>Feeling lonely. : Hi reddit, I haven’t posted ...</td>\n",
       "      <td>0</td>\n",
       "    </tr>\n",
       "    <tr>\n",
       "      <th>3241</th>\n",
       "      <td>When would suicide be right? : So I got back f...</td>\n",
       "      <td>0</td>\n",
       "    </tr>\n",
       "    <tr>\n",
       "      <th>3242</th>\n",
       "      <td>Lowest I’ve ever been ever. : To make a long s...</td>\n",
       "      <td>0</td>\n",
       "    </tr>\n",
       "    <tr>\n",
       "      <th>3243</th>\n",
       "      <td>Does the Toxoplasma Gondii ruined my life ? (f...</td>\n",
       "      <td>0</td>\n",
       "    </tr>\n",
       "    <tr>\n",
       "      <th>3244</th>\n",
       "      <td>Getting the correct diagnosis : Currently goin...</td>\n",
       "      <td>0</td>\n",
       "    </tr>\n",
       "  </tbody>\n",
       "</table>\n",
       "<p>3245 rows × 2 columns</p>\n",
       "</div>"
      ],
      "text/plain": [
       "                                                   text  labels\n",
       "0     Im scared : This is it. I lie to myself every ...       1\n",
       "1     New to this but just wanted to vent : I just f...       1\n",
       "2     I’m sad : It’s kinda always been an issue. I w...       1\n",
       "3     Lonely but not alone. : All of my immediately ...       1\n",
       "4     This year has been trash. : I dont know why I’...       1\n",
       "...                                                 ...     ...\n",
       "3240  Feeling lonely. : Hi reddit, I haven’t posted ...       0\n",
       "3241  When would suicide be right? : So I got back f...       0\n",
       "3242  Lowest I’ve ever been ever. : To make a long s...       0\n",
       "3243  Does the Toxoplasma Gondii ruined my life ? (f...       0\n",
       "3244  Getting the correct diagnosis : Currently goin...       0\n",
       "\n",
       "[3245 rows x 2 columns]"
      ]
     },
     "execution_count": 7,
     "metadata": {},
     "output_type": "execute_result"
    }
   ],
   "source": [
    "df_test"
   ]
  },
  {
   "cell_type": "code",
   "execution_count": 8,
   "id": "5a4705a5-b5e3-427c-a162-bcf40ff05e27",
   "metadata": {},
   "outputs": [],
   "source": [
    "from transformers import RobertaTokenizer\n",
    "from torch.utils.data import TensorDataset"
   ]
  },
  {
   "cell_type": "code",
   "execution_count": 9,
   "id": "314d916c-2274-43e2-b30f-d3cf3f86a307",
   "metadata": {},
   "outputs": [],
   "source": [
    "tokenizer=RobertaTokenizer.from_pretrained('roberta-base')"
   ]
  },
  {
   "cell_type": "code",
   "execution_count": 10,
   "id": "85e3f348-87d0-474b-a503-6e533d47a4e4",
   "metadata": {},
   "outputs": [],
   "source": [
    "def encode(series,label):\n",
    "    encodings=tokenizer(series.tolist(),truncation=True, max_length=128, padding='max_length',return_tensors='pt')\n",
    "    return TensorDataset(encodings['input_ids'],encodings['attention_mask'],torch.tensor(label.tolist()))"
   ]
  },
  {
   "cell_type": "code",
   "execution_count": 11,
   "id": "d8e3b5ac-1c3b-4214-aaf8-1f268711feb2",
   "metadata": {},
   "outputs": [],
   "source": [
    "train_dataset=encode(df_train['text'],df_train['labels'])"
   ]
  },
  {
   "cell_type": "code",
   "execution_count": 12,
   "id": "7e572bd1-3bfc-489e-9820-f2b8a4f054ac",
   "metadata": {},
   "outputs": [],
   "source": [
    "test_dataset=encode(df_train['text'],df_train['labels'])"
   ]
  },
  {
   "cell_type": "code",
   "execution_count": 13,
   "id": "83e6a1af-e0fd-4e18-bbb5-55e23e9b55db",
   "metadata": {},
   "outputs": [],
   "source": [
    "from transformers import RobertaForSequenceClassification,get_linear_schedule_with_warmup"
   ]
  },
  {
   "cell_type": "code",
   "execution_count": 14,
   "id": "4f1b440f-483e-422e-a9e0-347935736bb0",
   "metadata": {},
   "outputs": [],
   "source": [
    "from torch.optim import AdamW"
   ]
  },
  {
   "cell_type": "code",
   "execution_count": 15,
   "id": "56389cf8-c5b9-4d83-94b0-027fe0c7d0eb",
   "metadata": {},
   "outputs": [
    {
     "name": "stderr",
     "output_type": "stream",
     "text": [
      "Some weights of RobertaForSequenceClassification were not initialized from the model checkpoint at roberta-base and are newly initialized: ['classifier.dense.bias', 'classifier.dense.weight', 'classifier.out_proj.bias', 'classifier.out_proj.weight']\n",
      "You should probably TRAIN this model on a down-stream task to be able to use it for predictions and inference.\n"
     ]
    }
   ],
   "source": [
    "model=RobertaForSequenceClassification.from_pretrained('roberta-base',num_labels=3)"
   ]
  },
  {
   "cell_type": "code",
   "execution_count": 16,
   "id": "372f2d15-a337-4be9-95b5-36c27e7dc669",
   "metadata": {},
   "outputs": [
    {
     "data": {
      "text/plain": [
       "RobertaForSequenceClassification(\n",
       "  (roberta): RobertaModel(\n",
       "    (embeddings): RobertaEmbeddings(\n",
       "      (word_embeddings): Embedding(50265, 768, padding_idx=1)\n",
       "      (position_embeddings): Embedding(514, 768, padding_idx=1)\n",
       "      (token_type_embeddings): Embedding(1, 768)\n",
       "      (LayerNorm): LayerNorm((768,), eps=1e-05, elementwise_affine=True)\n",
       "      (dropout): Dropout(p=0.1, inplace=False)\n",
       "    )\n",
       "    (encoder): RobertaEncoder(\n",
       "      (layer): ModuleList(\n",
       "        (0-11): 12 x RobertaLayer(\n",
       "          (attention): RobertaAttention(\n",
       "            (self): RobertaSdpaSelfAttention(\n",
       "              (query): Linear(in_features=768, out_features=768, bias=True)\n",
       "              (key): Linear(in_features=768, out_features=768, bias=True)\n",
       "              (value): Linear(in_features=768, out_features=768, bias=True)\n",
       "              (dropout): Dropout(p=0.1, inplace=False)\n",
       "            )\n",
       "            (output): RobertaSelfOutput(\n",
       "              (dense): Linear(in_features=768, out_features=768, bias=True)\n",
       "              (LayerNorm): LayerNorm((768,), eps=1e-05, elementwise_affine=True)\n",
       "              (dropout): Dropout(p=0.1, inplace=False)\n",
       "            )\n",
       "          )\n",
       "          (intermediate): RobertaIntermediate(\n",
       "            (dense): Linear(in_features=768, out_features=3072, bias=True)\n",
       "            (intermediate_act_fn): GELUActivation()\n",
       "          )\n",
       "          (output): RobertaOutput(\n",
       "            (dense): Linear(in_features=3072, out_features=768, bias=True)\n",
       "            (LayerNorm): LayerNorm((768,), eps=1e-05, elementwise_affine=True)\n",
       "            (dropout): Dropout(p=0.1, inplace=False)\n",
       "          )\n",
       "        )\n",
       "      )\n",
       "    )\n",
       "  )\n",
       "  (classifier): RobertaClassificationHead(\n",
       "    (dense): Linear(in_features=768, out_features=768, bias=True)\n",
       "    (dropout): Dropout(p=0.1, inplace=False)\n",
       "    (out_proj): Linear(in_features=768, out_features=3, bias=True)\n",
       "  )\n",
       ")"
      ]
     },
     "execution_count": 16,
     "metadata": {},
     "output_type": "execute_result"
    }
   ],
   "source": [
    "device = torch.device(\"cuda\" if torch.cuda.is_available() else \"cpu\")\n",
    "model.to(device)"
   ]
  },
  {
   "cell_type": "code",
   "execution_count": 17,
   "id": "b40ba354-6871-41cf-b861-3475ef0e0265",
   "metadata": {},
   "outputs": [],
   "source": [
    "from torch.utils.data import DataLoader,WeightedRandomSampler"
   ]
  },
  {
   "cell_type": "code",
   "execution_count": 18,
   "id": "18041724-f6d2-40f5-81ee-e0f241272f37",
   "metadata": {},
   "outputs": [],
   "source": [
    "labels = train_dataset.tensors[2].cpu().numpy()\n",
    "class_counts = np.bincount(labels)   # e.g. [1971, 6019, 901]\n",
    "weights = 1.0 / class_counts\n",
    "sample_weights = weights[labels]\n",
    "sampler = WeightedRandomSampler(sample_weights, num_samples=len(sample_weights), replacement=True)"
   ]
  },
  {
   "cell_type": "code",
   "execution_count": 19,
   "id": "8f6fdfeb-bee8-435a-89cc-b84ae156bd8d",
   "metadata": {},
   "outputs": [],
   "source": [
    "train_loader=DataLoader(train_dataset,batch_size=16,shuffle=False,sampler=sampler)\n",
    "test_loader=DataLoader(test_dataset,batch_size=16,shuffle=False)"
   ]
  },
  {
   "cell_type": "code",
   "execution_count": 20,
   "id": "b5e5d3f3-952b-489d-812d-50fda58874b4",
   "metadata": {},
   "outputs": [],
   "source": [
    "optimizer=AdamW(model.parameters(),lr=2e-5, eps=1e-8)"
   ]
  },
  {
   "cell_type": "code",
   "execution_count": 21,
   "id": "2f4508e3-d84d-41e6-9669-0a051d9d9694",
   "metadata": {},
   "outputs": [],
   "source": [
    "epochs=3\n",
    "train_steps=len(train_loader)*epochs\n",
    "scheduler = get_linear_schedule_with_warmup(optimizer, num_warmup_steps=0, num_training_steps=train_steps)"
   ]
  },
  {
   "cell_type": "code",
   "execution_count": 22,
   "id": "f9465ef9-8947-45f0-b953-1e8fa15f0949",
   "metadata": {},
   "outputs": [],
   "source": [
    "counts = torch.tensor(class_counts, dtype=torch.float)\n",
    "beta = 0.999\n",
    "effective_num = 1.0 - torch.pow(beta, counts)\n",
    "alpha = (1.0 - beta) / effective_num\n",
    "alpha = alpha / alpha.sum() * len(counts)   # normalize\n",
    "alpha = alpha.to(device)"
   ]
  },
  {
   "cell_type": "code",
   "execution_count": 23,
   "id": "c01c246a-0aa9-4ffd-afad-90095f5db30a",
   "metadata": {},
   "outputs": [],
   "source": [
    "def focal_loss(logits, labels, alpha, gamma=1):\n",
    "    ce = nn.functional.cross_entropy(logits, labels, weight=alpha, reduction='none')\n",
    "    pt = torch.exp(-ce)\n",
    "    return ((1 - pt) ** gamma * ce).mean()"
   ]
  },
  {
   "cell_type": "code",
   "execution_count": 26,
   "id": "b138b85f-790e-4580-b69e-fbe5358401ec",
   "metadata": {},
   "outputs": [],
   "source": [
    "import torch.nn as nn"
   ]
  },
  {
   "cell_type": "code",
   "execution_count": 27,
   "id": "69994fb3-2e9b-4d61-9145-a55e72bc96f5",
   "metadata": {},
   "outputs": [
    {
     "name": "stdout",
     "output_type": "stream",
     "text": [
      "Epoch 1/3 | Train Loss: 0.4656\n",
      "Epoch 2/3 | Train Loss: 0.3053\n",
      "Epoch 3/3 | Train Loss: 0.2174\n"
     ]
    }
   ],
   "source": [
    "for epoch in range(epochs):\n",
    "    model.train()\n",
    "    total_loss = 0\n",
    "    for batch in train_loader:\n",
    "        b_input_ids, b_attention_mask, b_labels = [t.to(device) for t in batch]\n",
    "\n",
    "        optimizer.zero_grad()\n",
    "        outputs = model(input_ids=b_input_ids, attention_mask=b_attention_mask)\n",
    "        logits = outputs.logits\n",
    "\n",
    "        loss = focal_loss(logits, b_labels, alpha=alpha, gamma=1)\n",
    "        total_loss += loss.item()\n",
    "\n",
    "        loss.backward()\n",
    "        torch.nn.utils.clip_grad_norm_(model.parameters(), 1.0)  # gradient clipping\n",
    "        optimizer.step()\n",
    "        scheduler.step()\n",
    "\n",
    "    avg_train_loss = total_loss / len(train_loader)\n",
    "    print(f\"Epoch {epoch+1}/{epochs} | Train Loss: {avg_train_loss:.4f}\")"
   ]
  },
  {
   "cell_type": "code",
   "execution_count": 28,
   "id": "af457370-eff2-4d36-b36e-a4e84e2d8214",
   "metadata": {},
   "outputs": [
    {
     "name": "stdout",
     "output_type": "stream",
     "text": [
      "              precision    recall  f1-score   support\n",
      "\n",
      "           0       0.65      1.00      0.79       650\n",
      "           1       0.83      0.58      0.68      3101\n",
      "           2       0.64      0.82      0.72      2255\n",
      "\n",
      "    accuracy                           0.71      6006\n",
      "   macro avg       0.71      0.80      0.73      6006\n",
      "weighted avg       0.74      0.71      0.71      6006\n",
      "\n"
     ]
    }
   ],
   "source": [
    "from sklearn.metrics import classification_report\n",
    "\n",
    "model.eval()\n",
    "preds, true_labels = [], []\n",
    "for batch in test_loader:\n",
    "    with torch.no_grad():\n",
    "        outputs = model(input_ids=batch[0].to(device), attention_mask=batch[1].to(device))\n",
    "    logits = outputs.logits\n",
    "    preds.extend(torch.argmax(logits, dim=1).cpu().numpy())\n",
    "    true_labels.extend(batch[2].numpy())\n",
    "\n",
    "print(classification_report(true_labels, preds))"
   ]
  }
 ],
 "metadata": {
  "kernelspec": {
   "display_name": "Python 3 (ipykernel)",
   "language": "python",
   "name": "python3"
  },
  "language_info": {
   "codemirror_mode": {
    "name": "ipython",
    "version": 3
   },
   "file_extension": ".py",
   "mimetype": "text/x-python",
   "name": "python",
   "nbconvert_exporter": "python",
   "pygments_lexer": "ipython3",
   "version": "3.12.10"
  }
 },
 "nbformat": 4,
 "nbformat_minor": 5
}
